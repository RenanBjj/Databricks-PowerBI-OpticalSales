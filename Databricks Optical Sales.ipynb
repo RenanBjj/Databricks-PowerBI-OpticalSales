{
 "cells": [
  {
   "cell_type": "markdown",
   "metadata": {
    "application/vnd.databricks.v1+cell": {
     "cellMetadata": {},
     "inputWidgets": {},
     "nuid": "0977bb2e-e7e5-4c48-a6e5-cd4695cae6e8",
     "showTitle": false,
     "title": ""
    }
   },
   "source": [
    "## Databricks Optical Sales Notebook"
   ]
  },
  {
   "cell_type": "code",
   "execution_count": 0,
   "metadata": {
    "application/vnd.databricks.v1+cell": {
     "cellMetadata": {
      "byteLimit": 2048000,
      "rowLimit": 10000
     },
     "inputWidgets": {},
     "nuid": "7ec5f5c3-19be-4b0e-b167-d4a131add4cc",
     "showTitle": false,
     "title": ""
    }
   },
   "outputs": [],
   "source": [
    "import pandas as pd\n",
    "from pyspark.sql.functions import col, regexp_replace, cast, substring, desc, when, upper, format_number, countDistinct, to_date, count"
   ]
  },
  {
   "cell_type": "markdown",
   "metadata": {
    "application/vnd.databricks.v1+cell": {
     "cellMetadata": {
      "byteLimit": 2048000,
      "rowLimit": 10000
     },
     "inputWidgets": {},
     "nuid": "6b464dc0-1799-414b-857d-390098d4f633",
     "showTitle": false,
     "title": ""
    }
   },
   "source": [
    "## Starting Bronze Layer"
   ]
  },
  {
   "cell_type": "code",
   "execution_count": 0,
   "metadata": {
    "application/vnd.databricks.v1+cell": {
     "cellMetadata": {
      "byteLimit": 2048000,
      "rowLimit": 10000
     },
     "inputWidgets": {},
     "nuid": "6757f8b8-0e80-4b00-8fcb-70173a1fe6a1",
     "showTitle": false,
     "title": ""
    }
   },
   "outputs": [],
   "source": [
    "# Getting all files names\n",
    "all_files = dbutils.fs.ls('dbfs:/FileStore/tables/')\n",
    "\n",
    "# Getting CSV sales files and organizing by date (recent first) - Only SBC\n",
    "sales_files = [file for file in all_files if file.name.startswith('exportacao_venda') and file.name.endswith('sbc.csv')]\n",
    "sales_files = sorted(sales_files, key=lambda file: file.modificationTime, reverse=True)\n",
    "\n",
    "# Getting CSV product files and organizing by date (recent first)\n",
    "product_files = [file for file in all_files if file.name.startswith('exportacao_produto') and file.name.endswith('csv')]\n",
    "product_files = sorted(product_files, key=lambda file: file.modificationTime, reverse=True)\n",
    "\n",
    "# Getting CSV customers files and organizing by date (recent first)\n",
    "customers_files = [file for file in all_files if file.name.startswith('clientes') and file.name.endswith('csv')]\n",
    "customers_files = sorted(customers_files, key=lambda file: file.modificationTime, reverse=True)"
   ]
  },
  {
   "cell_type": "code",
   "execution_count": 0,
   "metadata": {
    "application/vnd.databricks.v1+cell": {
     "cellMetadata": {
      "byteLimit": 2048000,
      "rowLimit": 10000
     },
     "inputWidgets": {},
     "nuid": "6c9993e6-96e3-4ba5-a7c0-0eb8dfcd6f90",
     "showTitle": false,
     "title": ""
    }
   },
   "outputs": [],
   "source": [
    "bronze_sales = spark.read.csv(sales_files[0].path, inferSchema=True, header=True, encoding='latin1')\n",
    "bronze_products = spark.read.csv(product_files[0].path, inferSchema=True, header=True, encoding='latin1')\n",
    "bronze_customers = spark.read.csv(customers_files[0].path, inferSchema=True, header=True, encoding='latin1')"
   ]
  },
  {
   "cell_type": "markdown",
   "metadata": {
    "application/vnd.databricks.v1+cell": {
     "cellMetadata": {
      "byteLimit": 2048000,
      "rowLimit": 10000
     },
     "inputWidgets": {},
     "nuid": "964e1eac-01b7-4448-a4ad-ad820813886a",
     "showTitle": false,
     "title": ""
    }
   },
   "source": [
    "### Finishing Bronze Layer\n",
    "## Starting Silver Layer"
   ]
  },
  {
   "cell_type": "code",
   "execution_count": 0,
   "metadata": {
    "application/vnd.databricks.v1+cell": {
     "cellMetadata": {
      "byteLimit": 2048000,
      "rowLimit": 10000
     },
     "inputWidgets": {},
     "nuid": "e3f3c27a-b59e-46fc-b8a8-53a08e254eb9",
     "showTitle": false,
     "title": ""
    }
   },
   "outputs": [],
   "source": [
    "# SALES DF\n",
    "# Selecting only required columns\n",
    "silver_sales = bronze_sales.select(['Número Venda',\n",
    " 'Data',\n",
    " 'Número OS',\n",
    " 'Funcionário',\n",
    " 'Cliente',\n",
    " 'Item - Referência',\n",
    " 'Item - Descrição',\n",
    " 'Item - Quantidade',\n",
    " 'Item - Valor Original',\n",
    " 'Item - Valor Ajuste',\n",
    " 'Item - Valor Total Líquido'])\n",
    "\n",
    "# Renaming columns\n",
    "silver_sales = silver_sales.withColumnsRenamed(\n",
    "    {\n",
    "        'Número Venda':'OrderID',\n",
    "        'Data':'Date',\n",
    "        'Número OS':'OS_number',\n",
    "        'Funcionário':'Employee',\n",
    "        'Cliente':'Customer',\n",
    "        'Item - Referência':'Ref',\n",
    "        'Item - Descrição':'Description',\n",
    "        'Item - Quantidade':'Qtd',\n",
    "        'Item - Valor Original':'Original_price',\n",
    "        'Item - Valor Ajuste':'Price_adjustment',\n",
    "        'Item - Valor Total Líquido':'Final_price'\n",
    "    }\n",
    ")\n",
    "\n",
    "# Droping Null values (all null lines)\n",
    "silver_sales = silver_sales.dropna('all')\n",
    "\n",
    "# Adjusting values ponctuation and Columns types\n",
    "silver_sales = silver_sales.withColumn('Original_price', regexp_replace('Original_price', ',', '.'))\\\n",
    "    .withColumn('Qtd', regexp_replace('Qtd', ',', '.'))\\\n",
    "    .withColumn('Price_adjustment', regexp_replace('Price_adjustment', ',', '.'))\\\n",
    "    .withColumn('Final_price', regexp_replace('Final_price', ',', '.'))\\\n",
    "    .withColumn('Original_price', col('Original_price').cast('float'))\\\n",
    "    .withColumn('Qtd', col('Qtd').cast('int'))\\\n",
    "    .withColumn('Price_adjustment', col('Price_adjustment').cast('float'))\\\n",
    "    .withColumn('Final_price', col('Final_price').cast('float'))\n",
    "    \n",
    "# Filling Null values with \"0\" in the Price_adjusting column to improve analisys\n",
    "silver_sales = silver_sales.fillna({'Price_adjustment':0})\n",
    "\n",
    "# Transforming to pandas for filling empty values ​​with ffill method\n",
    "silver_sales = silver_sales.toPandas()\n",
    "silver_sales.fillna(method='ffill', inplace=True)\n",
    "\n",
    "# Creating Spark DF with modified DF\n",
    "silver_sales = spark.createDataFrame(silver_sales)\n",
    "\n",
    "# Creating new columns (Month, Year and Price Difference)\n",
    "silver_sales = silver_sales.withColumn('Month', substring('date', 4, 2))\\\n",
    "    .withColumn('Year', substring('date', 7, 4))\n",
    "silver_sales = silver_sales.withColumn('Price_diff', col('Final_price') - col('Original_price'))\n",
    "\n",
    "# Adjusting Refs to uppercase (to avoid typing mismatches)\n",
    "silver_sales = silver_sales.withColumn('Ref', upper('Ref'))\n",
    "\n",
    "# Cleaning Year column (removing erroneously declared data)\n",
    "silver_sales = silver_sales.where(col('OrderID') != 'ARMAÇÃO DA HOLY')\n",
    "silver_sales = silver_sales.where(col('Year') != 'OBRO')\n",
    "silver_sales = silver_sales.where(col('Year') != '-0')\n",
    "silver_sales = silver_sales.where(col('Year') != '')"
   ]
  },
  {
   "cell_type": "code",
   "execution_count": 0,
   "metadata": {
    "application/vnd.databricks.v1+cell": {
     "cellMetadata": {
      "byteLimit": 2048000,
      "rowLimit": 10000
     },
     "inputWidgets": {},
     "nuid": "afe09570-dfde-483d-860d-569cbaf5b26a",
     "showTitle": false,
     "title": ""
    }
   },
   "outputs": [],
   "source": [
    "# PRODUCT DF\n",
    "# Selecting only required columns\n",
    "silver_products = bronze_products.select([\n",
    " 'Referência',\n",
    " 'Descrição',\n",
    " 'Fornecedor',\n",
    " 'Grupo',\n",
    " 'Grife',\n",
    " 'Preco de custo',\n",
    " 'Preco de Venda'\n",
    "])\n",
    "\n",
    "# Renaming columns\n",
    "silver_products = silver_products.withColumnsRenamed(\n",
    "    {\n",
    "        'Referência':'Ref',\n",
    "        'Descrição':'Description',\n",
    "        'Fornecedor':'Supplier',\n",
    "        'Grupo':'Group',\n",
    "        'Grife':'Brand',\n",
    "        'Preco de custo':'Cost_price',\n",
    "        'Preco de Venda':'Sale_price'\n",
    "    }\n",
    ")\n",
    "\n",
    "# Droping Null values (all null lines)\n",
    "silver_products = silver_products.dropna(how='all')\n",
    "\n",
    "# Adjusting values ponctuation and Columns types\n",
    "silver_products = silver_products.withColumn('Cost_price', regexp_replace(col('Cost_price'), ',', '.'))\\\n",
    "    .withColumn('Sale_price', regexp_replace(col('Sale_price'), ',', '.'))\\\n",
    "    .withColumn('Cost_price', col('Cost_price').cast('float'))\\\n",
    "    .withColumn('Sale_price', col('Sale_price').cast('float'))\n",
    "\n",
    "# Adding Margin column\n",
    "silver_products = silver_products.withColumn('Margin', col('Sale_price') - col('Cost_price'))\n",
    "\n",
    "# Adjusting Refs to uppercase (to avoid typing mismatches)\n",
    "silver_products = silver_products.withColumn('Ref', upper('Ref'))"
   ]
  },
  {
   "cell_type": "code",
   "execution_count": 0,
   "metadata": {
    "application/vnd.databricks.v1+cell": {
     "cellMetadata": {
      "byteLimit": 2048000,
      "rowLimit": 10000
     },
     "inputWidgets": {},
     "nuid": "3a746775-ff9e-444b-811b-827066ced65a",
     "showTitle": false,
     "title": ""
    }
   },
   "outputs": [],
   "source": [
    "# CUSTOMERS DF\n",
    "# Selecting only required columns\n",
    "silver_customers = bronze_customers.select(['Documento',\n",
    " 'Nome / Razão Social',\n",
    " 'Idade',\n",
    " 'Número de Vendas',\n",
    " 'Última Venda',\n",
    " 'Valor Total de Vendas'])\n",
    "\n",
    "# Renaming columns\n",
    "silver_customers = silver_customers.withColumnsRenamed(\n",
    "        {'Documento':'ID',\n",
    "        'Nome / Razão Social':'Name',\n",
    "        'Idade':'Age',\n",
    "        'Número de Vendas':'Sales_qtd',\n",
    "        'Última Venda':'Last_sale',\n",
    "        'Valor Total de Vendas':'Total_sales'}\n",
    ")\n",
    "\n",
    "# Droping Null values (all null lines)\n",
    "silver_customers = silver_customers.dropna('all')\n",
    "\n",
    "# Adjusting values ponctuation and Columns types\n",
    "silver_customers = silver_customers.withColumn('Total_sales', regexp_replace(col('Total_sales'), ',', '.'))\\\n",
    "    .withColumn('Total_sales', col('Total_sales').cast('float'))\n",
    "\n",
    "# Creating new columns\n",
    "silver_customers = silver_customers.withColumn('Last_year_sale', substring(col('Last_sale'), 7, 4))\n",
    "\n",
    "# Filling ID Null values with \"ND\" (Not Declared)\n",
    "silver_customers = silver_customers.fillna({'ID':'ND'})"
   ]
  },
  {
   "cell_type": "markdown",
   "metadata": {
    "application/vnd.databricks.v1+cell": {
     "cellMetadata": {
      "byteLimit": 2048000,
      "rowLimit": 10000
     },
     "inputWidgets": {},
     "nuid": "eed44494-8273-4185-ac84-eeec450197ad",
     "showTitle": false,
     "title": ""
    }
   },
   "source": [
    "### Finishing Silver Layer\n",
    "## Starting Gold Layer"
   ]
  },
  {
   "cell_type": "code",
   "execution_count": 0,
   "metadata": {
    "application/vnd.databricks.v1+cell": {
     "cellMetadata": {
      "byteLimit": 2048000,
      "rowLimit": 10000
     },
     "inputWidgets": {},
     "nuid": "e769ab9f-aaa2-4220-af82-28445a06c2bf",
     "showTitle": false,
     "title": ""
    }
   },
   "outputs": [
    {
     "name": "stdout",
     "output_type": "stream",
     "text": [
      "+----+------------+\n",
      "|Year| Total Sales|\n",
      "+----+------------+\n",
      "|2023|1,286,711.48|\n",
      "|2022|1,191,250.71|\n",
      "|2021|  831,866.70|\n",
      "|2024|  792,268.80|\n",
      "|2020|  638,617.72|\n",
      "|2019|      100.00|\n",
      "+----+------------+\n",
      "\n"
     ]
    }
   ],
   "source": [
    "# Checking sales by Year\n",
    "sales_year = silver_sales.groupBy('Year').sum('Final_price').orderBy(desc('sum(Final_price)')).withColumnRenamed('sum(Final_price)', 'Total Sales')\\\n",
    "    .withColumn('Total Sales', format_number(col('Total Sales'), 2))\n",
    "\n",
    "sales_year.show()\n",
    "# We can see a growth in sales over the years, especially from 2021 to 2022."
   ]
  },
  {
   "cell_type": "code",
   "execution_count": 0,
   "metadata": {
    "application/vnd.databricks.v1+cell": {
     "cellMetadata": {},
     "inputWidgets": {},
     "nuid": "d495be7b-8225-4758-af41-7c74401c5e29",
     "showTitle": false,
     "title": ""
    }
   },
   "outputs": [],
   "source": [
    "# Top10 Best Selling Products\n",
    "top_best_selling = silver_sales.groupBy('Ref', 'Description').agg({'Qtd':'count'}).orderBy(desc('count(Qtd)')).withColumnRenamed('count(Qtd)', 'Total Qtd Sold')\n",
    "\n",
    "top_best_selling.show(10, truncate=False)"
   ]
  },
  {
   "cell_type": "code",
   "execution_count": 0,
   "metadata": {
    "application/vnd.databricks.v1+cell": {
     "cellMetadata": {},
     "inputWidgets": {},
     "nuid": "64bdc176-081e-4d6c-8fa3-8f2d810dae64",
     "showTitle": false,
     "title": ""
    }
   },
   "outputs": [],
   "source": [
    "# 20 Best Customers (of all time)\n",
    "best_customers = silver_sales.where(col('Customer') != '--- Cliente não informado ---')\\\n",
    ".groupBy('Customer').agg({'Final_price':'sum'}).orderBy(desc('sum(Final_price)'))\\\n",
    ".withColumn('sum(Final_price)', format_number(col('sum(Final_price)'), 2))\n",
    "\n",
    "best_customers.show(20, truncate=False)"
   ]
  },
  {
   "cell_type": "code",
   "execution_count": 0,
   "metadata": {
    "application/vnd.databricks.v1+cell": {
     "cellMetadata": {},
     "inputWidgets": {},
     "nuid": "1280c7ef-d367-4535-83f0-f45a55ce993f",
     "showTitle": false,
     "title": ""
    }
   },
   "outputs": [],
   "source": [
    "# Recurring customers (bought more times)\n",
    "recurring_customers = silver_sales.filter((col('Customer') != '--- Cliente não informado ---') & (col('Customer') != 'Cliente Padrão') & (col('Customer') != 'Consumidor'))\\\n",
    ".groupBy('Customer').agg(countDistinct('OrderID').alias('Transaction_count')).orderBy(desc('Transaction_count'))\n",
    "\n",
    "recurring_customers.show(truncate=False)"
   ]
  },
  {
   "cell_type": "code",
   "execution_count": 0,
   "metadata": {
    "application/vnd.databricks.v1+cell": {
     "cellMetadata": {
      "byteLimit": 2048000,
      "rowLimit": 10000
     },
     "inputWidgets": {},
     "nuid": "a5547348-80bd-4c92-ad13-c72dbda26ac4",
     "showTitle": false,
     "title": ""
    }
   },
   "outputs": [
    {
     "name": "stdout",
     "output_type": "stream",
     "text": [
      "+-----------+-----------+\n",
      "|   Employee|Total_sales|\n",
      "+-----------+-----------+\n",
      "|Matheus Sbc| 336,049.52|\n",
      "|       Alef| 248,516.09|\n",
      "|  Renan Sbc| 101,220.92|\n",
      "| Amanda Sbc|  53,968.17|\n",
      "|Vendas Holy|  31,026.00|\n",
      "|Juliana Sbc|  21,488.10|\n",
      "+-----------+-----------+\n",
      "\n"
     ]
    }
   ],
   "source": [
    "# Best salesperson in 2024\n",
    "employee_2024 = silver_sales.filter(col('Year')== '2024').groupBy(\"Employee\").agg({'Final_price':'sum'}).withColumnRenamed('sum(Final_price)', 'Total_sales').orderBy(desc('Total_sales')).withColumn('Total_sales', format_number('Total_sales', 2))\n",
    "employee_2024.show()"
   ]
  },
  {
   "cell_type": "code",
   "execution_count": 0,
   "metadata": {
    "application/vnd.databricks.v1+cell": {
     "cellMetadata": {
      "byteLimit": 2048000,
      "rowLimit": 10000
     },
     "inputWidgets": {},
     "nuid": "3762e313-4184-4f22-868d-c93c926bc7e0",
     "showTitle": false,
     "title": ""
    }
   },
   "outputs": [
    {
     "name": "stdout",
     "output_type": "stream",
     "text": [
      "+-----+-----------------------------------------------------+---------------+\n",
      "|Ref  |Description                                          |sum(Price_diff)|\n",
      "+-----+-----------------------------------------------------+---------------+\n",
      "|Z262 |Zeiss Antirreflexo Silver                            |-7,099.59      |\n",
      "|Z187 |Zeiss Progressive Light 3Dv Blueguard 1.50           |-6,320.95      |\n",
      "|Z93  |Zeiss Visão Simples Acabadas Clear View Platinum 1.50|-6,189.61      |\n",
      "|Z167 |Zeiss Progressive Smartlife Essential Blueguard 1.50 |-5,343.84      |\n",
      "|Z260 |Zeiss Antirreflexo Blueprotect                       |-4,425.92      |\n",
      "|Z261 |Zeiss Antirreflexo Platinum                          |-3,932.85      |\n",
      "|HB010|Hb Vision 1.56 Blue Light Uv                         |-3,835.89      |\n",
      "|Z89  |Zeiss Visão Simples Acabadas Clear View Silver 1.50  |-3,779.09      |\n",
      "|Z197 |Zeiss Progressive Light 3D Blueguard 1.50            |-3,653.39      |\n",
      "|Z92  |Zeiss Visão Simples Acabadas Clear View Silver 1.67  |-3,189.27      |\n",
      "|H189 |Hoya Sync III Organic 1.50 Hv Longlife Bluecontrol   |-2,760.52      |\n",
      "|Z168 |Zeiss Progressive Smartlife Essential Blueguard Poli |-2,649.03      |\n",
      "|H342 |Hoya Argos Progressive Organic 1.50 No-Risk          |-2,605.98      |\n",
      "|Z263 |Zeiss Antirreflexo Chrome                            |-2,523.55      |\n",
      "|Z162 |Zeiss Progressive Smartlife Pure Photofusion X Poli  |-2,475.00      |\n",
      "|Z207 |Zeiss Progressive Light D Blueguard 1.50             |-2,430.61      |\n",
      "|Z170 |Zeiss Progressive Smartlife Essential Blueguard 1.67 |-2,320.00      |\n",
      "|Z101 |Zeiss Visão Simples Pronta Blue 1.67                 |-2,299.09      |\n",
      "|12   |Blue Digital Light Poli                              |-2,260.29      |\n",
      "|Z52  |Zeiss Visão Simples Freeform Photo 1.67              |-2,217.42      |\n",
      "+-----+-----------------------------------------------------+---------------+\n",
      "only showing top 20 rows\n",
      "\n"
     ]
    }
   ],
   "source": [
    "# Viewing which products have the biggest discounts\n",
    "biggest_discounts = silver_sales.groupBy('Ref', 'Description').agg({'Price_diff':'sum'})\n",
    "biggest_discounts = biggest_discounts.orderBy(('sum(Price_diff)')).withColumn('sum(Price_diff)', format_number(col('sum(Price_diff)'), 2))\n",
    "biggest_discounts.show(truncate=False)"
   ]
  },
  {
   "cell_type": "markdown",
   "metadata": {},
   "source": [
    "### Finishing Gold Layer\n",
    "\n",
    "## Saving Dataframes"
   ]
  },
  {
   "cell_type": "code",
   "execution_count": 0,
   "metadata": {
    "application/vnd.databricks.v1+cell": {
     "cellMetadata": {},
     "inputWidgets": {},
     "nuid": "0f54d004-414a-4286-8d58-12c6d4f3a901",
     "showTitle": false,
     "title": ""
    }
   },
   "outputs": [],
   "source": [
    "# Saving DataFrame as CSV in DBFS\n",
    "df_vendas.write.mode('overwrite').csv(\"/dbfs/FileStore/df_vendas.csv\", header=True)\n",
    "df_produtos.write.mode('overwrite').csv(\"/dbfs/FileStore/df_produtos.csv\", header=True)\n",
    "df_client.write.mode('overwrite').csv(\"/dbfs/FileStore/df_clientes.csv\", header=True)"
   ]
  }
 ],
 "metadata": {
  "application/vnd.databricks.v1+notebook": {
   "dashboards": [],
   "environmentMetadata": null,
   "language": "python",
   "notebookMetadata": {
    "pythonIndentUnit": 4
   },
   "notebookName": "SBC - Total",
   "widgets": {}
  },
  "kernelspec": {
   "display_name": "Python 3 (ipykernel)",
   "language": "python",
   "name": "python3"
  },
  "language_info": {
   "codemirror_mode": {
    "name": "ipython",
    "version": 3
   },
   "file_extension": ".py",
   "mimetype": "text/x-python",
   "name": "python",
   "nbconvert_exporter": "python",
   "pygments_lexer": "ipython3",
   "version": "3.11.7"
  }
 },
 "nbformat": 4,
 "nbformat_minor": 1
}
